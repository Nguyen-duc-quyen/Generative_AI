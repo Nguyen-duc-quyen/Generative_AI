{
 "cells": [
  {
   "cell_type": "code",
   "execution_count": null,
   "metadata": {},
   "outputs": [],
   "source": [
    "import idx2numpy\n",
    "import numpy as np\n",
    "import os\n",
    "from torchvision.transforms import v2\n",
    "import torch.nn as nn\n"
   ]
  },
  {
   "cell_type": "markdown",
   "metadata": {},
   "source": [
    "# Load datasets"
   ]
  },
  {
   "cell_type": "code",
   "execution_count": null,
   "metadata": {},
   "outputs": [],
   "source": [
    "data_dir = \"../datasets/MNIST\""
   ]
  },
  {
   "cell_type": "code",
   "execution_count": null,
   "metadata": {},
   "outputs": [],
   "source": [
    "train_images = idx2numpy.convert_from_file(os.path.join(data_dir, \"train\", \"train-images-idx3-ubyte\"))\n",
    "train_labels = idx2numpy.convert_from_file(os.path.join(data_dir, \"train\", \"train-labels-idx1-ubyte\"))\n",
    "test_images = idx2numpy.convert_from_file(os.path.join(data_dir, \"test\", \"t10k-images-idx3-ubyte\"))\n",
    "test_labels = idx2numpy.convert_from_file(os.path.join(data_dir, \"test\", \"t10k-labels-idx1-ubyte\"))"
   ]
  },
  {
   "cell_type": "code",
   "execution_count": null,
   "metadata": {},
   "outputs": [],
   "source": [
    "# Data stats\n"
   ]
  },
  {
   "cell_type": "markdown",
   "metadata": {},
   "source": [
    "# Preprocessing Data"
   ]
  },
  {
   "cell_type": "code",
   "execution_count": null,
   "metadata": {},
   "outputs": [],
   "source": []
  }
 ],
 "metadata": {
  "language_info": {
   "name": "python"
  }
 },
 "nbformat": 4,
 "nbformat_minor": 2
}
